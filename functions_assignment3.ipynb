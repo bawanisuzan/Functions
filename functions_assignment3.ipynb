{
  "nbformat": 4,
  "nbformat_minor": 0,
  "metadata": {
    "colab": {
      "provenance": []
    },
    "kernelspec": {
      "name": "python3",
      "display_name": "Python 3"
    },
    "language_info": {
      "name": "python"
    }
  },
  "cells": [
    {
      "cell_type": "markdown",
      "source": [
        "# **Theoretical Questions**"
      ],
      "metadata": {
        "id": "la1Tm2YUdbVJ"
      }
    },
    {
      "cell_type": "markdown",
      "source": [
        "1. What is the difference between a function and a method in Python?\n",
        "* In Python, both functions and methods are blocks of reusable code, but the key difference lies in how they are defined and called:\n",
        "* Function:\n",
        "  - A function is defined using the def keyword.\n",
        "  -  It stands alone and is not tied to any object.\n",
        "  - It can be called independently.\n",
        "  ```\n",
        "    def greet(name):\n",
        "        return f\"Hello, {name}!\"\n",
        "\n",
        "    print(greet(\"Alice\"))  # Output: Hello, Alice!\n",
        "  ```\n",
        "\n",
        "* Method:\n",
        "  - A method is also a function, but it is associated with an object (usually a class instance).\n",
        "  - It is called on an object using dot notation (object.method()).\n",
        "  - It usually takes self as its first parameter (if defined inside a class).\n",
        "  ```\n",
        "    class Greeter:\n",
        "        def greet(self, name):\n",
        "            return f\"Hello, {name}!\"\n",
        "\n",
        "    g = Greeter()\n",
        "    print(g.greet(\"Bob\"))  # Output: Hello, Bob!\n",
        "  ```\n",
        "\n",
        "*  Key Differences:\n",
        "\n",
        "| Feature       |       Function    |\t     Method|\n",
        "|---------------|-------------------|--------------------------|\n",
        "|**Belongs to** | Global scope\t    |Class or object        |\n",
        "|**First parameter**| Regular parameters|First parameter is usually self |\n",
        "|**Called using**  | Function name\t   |Object followed by a dot and method name |\n",
        "\n",
        "* Thus, Functions are independent blocks of logic, while methods are functions that live inside objects.\n",
        "* In object-oriented Python, methods help encapsulate behavior within classes, whereas functions serve broader, standalone tasks.\n",
        "\n"
      ],
      "metadata": {
        "id": "ItZkYxWzdp1n"
      }
    },
    {
      "cell_type": "markdown",
      "source": [
        "2. Explain the concept of function arguments and parameters in Python.\n",
        "* Parameter:\n",
        "  - A parameter is a placeholder variable listed in a function definition.\n",
        "  - It defines what kind of input the function expects.\n",
        "  ```\n",
        "    def greet(name):  # 'name' is a parameter\n",
        "        return f\"Hello, {name}!\"\n",
        "  ```\n",
        "\n",
        "* Argument:\n",
        "  -  An argument is the actual value you pass to a function when calling it.\n",
        "  -  Arguments are assigned to the corresponding parameters.\n",
        "\n",
        "    `greet(\"Alice\")  # \"Alice\" is the argument`\n",
        "\n",
        "* Types of Arguments in Python:\n",
        "```\n",
        "  Type\t                Example Usage\n",
        "  Positional\t          greet(\"John\")\n",
        "  Keyword\t             greet(name=\"John\")\n",
        "  Default Parameters\t  def greet(name=\"Guest\"):\n",
        "  Variable Length\t     def add(*nums): or def info(**kwargs):\n",
        "```\n",
        "* Example of types of arguments:\n",
        "```\n",
        "  def introduce(name, age=18, **kwargs):    # One default parameter passed \"age\"\n",
        "      print(f\"My name is {name}, and I am {age} years old.\")\n",
        "      print(f\"Other introductory things: \\n{kwargs})\n",
        "\n",
        "  introduce(\"Bob\")                 # age uses default parameter value 18\n",
        "  introduce(name=\"Alice\", age=25)      # keyword argument used\n",
        "  introduce(\"Suzan\", 22)    # Positional arguments passed\n",
        "  # Passing variable-length keyword arguments\n",
        "  introduce(\"Suzan\", 22, profession=\"Software dev\", hobbies=[\"Coding\", \"Travelling\", \"Fitness\"])      \n",
        "```"
      ],
      "metadata": {
        "id": "G9cNgkMUakqS"
      }
    },
    {
      "cell_type": "markdown",
      "source": [
        "Q3. What are the different ways to define and call a function in Python?\n",
        "1. Function with Default Parameter\n",
        "  *  Definition:\n",
        "  ```\n",
        "  def greet(name=\"Guest\"):\n",
        "      return f\"Hello, {name}!\"\n",
        "  ```\n",
        "  * Call:\n",
        "  ```\n",
        "  # Uses default\n",
        "  print(greet())           # Output: Hello, Guest!\n",
        "  # Overrides default           \n",
        "  print(greet(\"Bob\"))      # Output: Hello, Bob!\n",
        "  ```\n",
        "\n",
        "2. Function with Positional Arguments\n",
        "  * Definition:\n",
        "  ```\n",
        "  def add(a, b):\n",
        "      return a + b\n",
        "  ```\n",
        "  * Call:\n",
        "  ```\n",
        "  print(add(5, 3))    # Output: 8\n",
        "  ```\n",
        "\n",
        "3. Function with Keyword Arguments\n",
        "  * Definition:\n",
        "  ```\n",
        "  def introduce(name, age):\n",
        "      return f\"{name} is {age} years old.\"\n",
        "  ```\n",
        "  * Call:\n",
        "  ```\n",
        "  print(introduce(age=25, name=\"Charlie\"))     # Output: Charlie is 25 years old.\n",
        "  ```\n",
        "\n",
        "4. Function with Variable-Length Positional Arguments (*args)\n",
        "  * Definition:\n",
        "  ```\n",
        "  def total(*numbers):\n",
        "      return sum(numbers)\n",
        "  ```\n",
        "  * Call:\n",
        "  ```\n",
        "  print(total(5, 10, 15))     # Output: 30\n",
        "  ```\n",
        "\n",
        "5. Function with Variable-Length Keyword Arguments (**kwargs)\n",
        "  * Definition:\n",
        "  ```\n",
        "  def display_info(**info):\n",
        "      return f\"Name: {info.get('name')}, Age: {info.get('age')}\"\n",
        "  ```\n",
        "  * Call:\n",
        "  ```\n",
        "  print(display_info(name=\"Daisy\", age=28))      # Output: Name: Daisy, Age: 28\n",
        "  ```\n",
        "\n",
        "6. Lambda Function (Anonymous Function)\n",
        "  * Definition:\n",
        "  ```\n",
        "  square = lambda x: x ** 2\n",
        "  ```\n",
        "  * Call:\n",
        "  ```\n",
        "  print(square(6))        # Output: 36\n",
        "  ```\n",
        "7. Function with Both *args and **kwargs\n",
        "  * Definition:\n",
        "  ```\n",
        "  def display_data(*args, **kwargs):\n",
        "      print(\"Positional arguments:\", args)\n",
        "      print(\"Keyword arguments:\", kwargs)\n",
        "  ```\n",
        "  * Call:\n",
        "  ```\n",
        "  display_data(1, 2, 3, name=\"Alice\", age=30)   \n",
        "  # Output:\n",
        "  # Positional arguments: (1, 2, 3)\n",
        "  # Keyword arguments: {'name': 'Alice', 'age': 30}\n",
        "  ```\n",
        "\n",
        "8. Function Returning Another Function (Closure)\n",
        "  * Definition:\n",
        "  ```\n",
        "  def outer_function(msg):\n",
        "      def inner_function():\n",
        "          print(f\"Message: {msg}\")\n",
        "      return inner_function\n",
        "  ```\n",
        "  * Call:\n",
        "  ```\n",
        "  message_func = outer_function(\"Hello from the inner function!\")\n",
        "  message_func()\n",
        "  # Output: Message: Hello from the inner function!\n",
        "  ```\n",
        "\n",
        "9. Recursive Function\n",
        "  * Definition:\n",
        "  ```\n",
        "  def factorial(n):\n",
        "      if n == 0:\n",
        "          return 1\n",
        "      else:\n",
        "          return n * factorial(n - 1)\n",
        "  ```\n",
        "  * Call:\n",
        "  ```\n",
        "  print(factorial(5))  # Output: 120\n",
        "  ```\n",
        "\n",
        "10. Function with Type Hints\n",
        "  * Definition:\n",
        "  ```\n",
        "  def add(a: int, b: int) -> int:\n",
        "      return a + b\n",
        "  ```\n",
        "  * Call:\n",
        "  ```\n",
        "  print(add(3, 4))  # Output: 7\n",
        "  ```\n"
      ],
      "metadata": {
        "id": "1xkp4_rfddXG"
      }
    },
    {
      "cell_type": "markdown",
      "source": [
        "Q4. What is the purpose of the `return` statement in a Python function?\n",
        "* The return statement in Python is used to exit a function and send a result back to the caller. It terminates the function execution and optionally passes back a value.\n",
        "* Purpose of return:\n",
        "  - Send output from the function to the caller.\n",
        "  - End the function's execution immediately.\n",
        "  - Enable function reuse and chaining of logic.\n",
        "* Example:\n",
        "```\n",
        "  def add(a, b):\n",
        "    return a + b\n",
        "\n",
        "  result = add(5, 3)\n",
        "  print(result)  # Output: 8\n",
        "```"
      ],
      "metadata": {
        "id": "VeaPzxuVkrqF"
      }
    },
    {
      "cell_type": "markdown",
      "source": [
        "Q5. What are iterators in Python and how do they differ from iterables?\n",
        "* In Python, iterables and iterators are fundamental concepts used in loops and data traversal — but they are not the same.\n",
        "* Iterable:\n",
        "  - An iterable is any Python object capable of returning its elements one at a time using an __iter__() method.\n",
        "  - Examples: list, tuple, dict, set, str.\n",
        "  - You can loop over an iterable using a for loop.\n",
        "  ```\n",
        "  numbers = [1, 2, 3]  # This is an iterable\n",
        "  for num in numbers:\n",
        "      print(num)\n",
        "  ```\n",
        "* Iterator:\n",
        "  - An iterator is an object with a state that remembers where it is during iteration.\n",
        "  - It implements two methods:\n",
        "    - `__iter__()`\n",
        "    - `__next__()`\n",
        "  - Iterators generate values one at a time and can be consumed only once.\n",
        "* Example:\n",
        "  ```\n",
        "    book = ['Page 1', 'Page 2', 'Page 3']  # Book (Iterable)\n",
        "    bookmark = iter(book)                 # Bookmark (Iterator)\n",
        "\n",
        "    print(next(bookmark))  # Page 1\n",
        "    print(next(bookmark))  # Page 2\n",
        "  ```\n",
        "    After the last page, you'll get an error — like when the book ends:\n",
        "  ```\n",
        "    print(next(bookmark))  # Page 3\n",
        "    print(next(bookmark))  # Raises StopIteration\n",
        "  ```"
      ],
      "metadata": {
        "id": "Bd6f-QD-mZkb"
      }
    },
    {
      "cell_type": "markdown",
      "source": [
        "Q6. Explain the concept of generators in Python and how they are defined.\n",
        "\n",
        "* A generator in Python is a special type of iterator that allows you to generate values on the fly, rather than storing them all in memory at once.\n",
        "* Generators are ideal for working with large datasets or infinite sequences.\n",
        "\n",
        "* How Generators Work:\n",
        "  * Generators are created using:\n",
        "    1. Generator Function – using the `yield` keyword.\n",
        "    2. Generator Expressions – a concise form similar to list comprehensions.\n",
        "\n",
        "* Generator function Example:\n",
        "```\n",
        "  def count_up_to(max):\n",
        "      count = 1\n",
        "      while count <= max:\n",
        "          yield count\n",
        "          count += 1\n",
        "\n",
        "  gen = count_up_to(3)\n",
        "\n",
        "  print(next(gen))  # Output: 1\n",
        "  print(next(gen))  # Output: 2\n",
        "  print(next(gen))  # Output: 3\n",
        "  # print(next(gen))  # Raises StopIteration\n",
        "```\n",
        "\n",
        "  - The `yield` keyword pauses the function, remembers the state, and resumes from there on the next call.\n",
        "  - It **does not** store all values in memory, making it memory-efficient.\n",
        "\n",
        "\n",
        "* Generator Expression Example:\n",
        "```\n",
        "  squares = (x * x for x in range(5))\n",
        "\n",
        "  for num in squares:\n",
        "      print(num)\n",
        "```\n",
        "  - Looks like a list comprehension but uses `()` instead of `[]`.\n",
        "  - Produces values one at a time, **lazily**.\n",
        "\n",
        "*  **Key Benefits of Generators:**\n",
        "\n",
        "| Feature                 | Description |\n",
        "|-------------------------|-------------|\n",
        "| **Memory-efficient**     | Doesn't store full sequences in memory |\n",
        "| **Faster start-up**      | Starts yielding values immediately |\n",
        "| **Infinite sequences**   | Can represent endless streams (e.g., Fibonacci) |\n",
        "| **Cleaner syntax**       | Easier to write custom iterators |\n"
      ],
      "metadata": {
        "id": "-vHn_Gb_k52d"
      }
    },
    {
      "cell_type": "markdown",
      "source": [
        "**Q7. What are the advantages of using generators over regular functions in Python?**\n",
        "\n",
        "---\n",
        "\n",
        "* Generators provide several powerful benefits compared to regular functions that return complete data structures (like lists or tuples). These advantages are especially noticeable when working with large datasets, streams, or infinite sequences.\n",
        "\n",
        "**1. Memory Efficiency (Lazy Evaluation)**\n",
        "* Advantage:\n",
        "  - Generators **do not store all values in memory**. They yield one value at a time, only when needed.\n",
        "\n",
        "* Example:\n",
        "```python\n",
        "  def count_up_to(n):\n",
        "      for i in range(n):\n",
        "          yield i\n",
        "\n",
        "  gen = count_up_to(1000000)  # Uses very little memory\n",
        "```\n",
        "* Compare to:\n",
        "```python\n",
        "  def count_up_to_list(n):\n",
        "      return [i for i in range(n)]\n",
        "\n",
        "  lst = count_up_to_list(1000000)  # Consumes a lot of memory\n",
        "```\n",
        "\n",
        "**2. Infinite Sequences**\n",
        "* Advantage:\n",
        "  - Generators can produce endless sequences without crashing your system.\n",
        "* Example:\n",
        "```python\n",
        "  def infinite_counter():\n",
        "      i = 0\n",
        "      while True:\n",
        "          yield i\n",
        "          i += 1\n",
        "```\n",
        "\n",
        "**3. Faster Start Time**\n",
        "* Advantage:\n",
        "  - Since generators don’t compute all values upfront, they **start faster** than list-returning functions.\n",
        "* Example:\n",
        "```python\n",
        "  def squares_gen(n):\n",
        "      for i in range(n):\n",
        "          yield i * i\n",
        "\n",
        "  print(next(squares_gen(1000000)))  # Immediate response\n",
        "```\n",
        "\n",
        "**4. Cleaner Code for Iteration**\n",
        "* Advantage:\n",
        "  - Generators simplify complex iteration logic, often replacing verbose classes that implement `__iter__()` and `__next__()`.\n",
        "* Example:\n",
        "```python\n",
        "  def even_numbers(n):\n",
        "      for i in range(n):\n",
        "          if i % 2 == 0:\n",
        "              yield i\n",
        "```\n",
        "\n",
        "**5. Chaining & Pipelining**\n",
        "* Advantage:\n",
        "  - Generators can be chained together to form processing pipelines (e.g., in data processing, ETL pipelines).\n",
        "\n",
        "* Example:\n",
        "```python\n",
        "  def read_lines(file):\n",
        "      for line in file:\n",
        "          yield line.strip()\n",
        "\n",
        "  def filter_non_empty(lines):\n",
        "      for line in lines:\n",
        "          if line:\n",
        "              yield line\n",
        "```\n",
        "\n",
        "**Summary Table:**\n",
        "\n",
        "| Feature              | Generator Function       | Regular Function            |\n",
        "| -------------------- | ------------------------ | --------------------------- |\n",
        "| **Memory Usage**     | Low (one item at a time) | High (entire data in RAM)   |\n",
        "| **Return Type**      | Generator object         | List / other structure      |\n",
        "| **Suitable For**     | Large/infinite sequences | Small fixed-size data       |\n",
        "| **Performance**      | Faster startup, scalable | May be slower on large sets |\n",
        "| **Code Readability** | Compact & expressive     | Can be verbose              |\n"
      ],
      "metadata": {
        "id": "CixlL5hr1eml"
      }
    },
    {
      "cell_type": "markdown",
      "source": [
        "\n",
        "### **Q8. What is a Lambda Function in Python and When Is It Typically Used?**\n",
        "---\n",
        "* A **lambda function** in Python is a **small, anonymous function** defined using the `lambda` keyword.\n",
        "* It can have any number of arguments, but **only one expression**.\n",
        "* Syntax:\n",
        "  ```python\n",
        "  lambda arguments: expression\n",
        "  ```\n",
        "* It returns the result of the expression automatically.\n",
        "\n",
        "* Example:\n",
        "```python\n",
        "  # Regular function\n",
        "  def add(x, y):\n",
        "      return x + y\n",
        "\n",
        "  # Equivalent lambda function\n",
        "  add_lambda = lambda x, y: x + y\n",
        "\n",
        "  print(add_lambda(5, 3))  # Output: 8\n",
        "```\n",
        "* Use Cases:\n",
        "  - Lambda functions are used when you need a throwaway function for a short period—especially:\n",
        "  1. With `map()` - Apply function to each item in a list\n",
        "  ```python\n",
        "    nums = [1, 2, 3, 4]\n",
        "    squares = list(map(lambda x: x**2, nums))\n",
        "    print(squares)  # [1, 4, 9, 16]\n",
        "  ```\n",
        "  2. With `filter()` - Filter items based on a condition\n",
        "  ```python\n",
        "    nums = [10, 15, 20, 25]\n",
        "    even = list(filter(lambda x: x % 2 == 0, nums))\n",
        "    print(even)  # [10, 20]\n",
        "  ```\n",
        "  3. With `sorted()` - Custom sorting\n",
        "  ```python\n",
        "    names = [('Alice', 25), ('Bob', 20), ('Eve', 30)]\n",
        "    # Sort by age\n",
        "    sorted_names = sorted(names, key=lambda x: x[1])\n",
        "    print(sorted_names)  # [('Bob', 20), ('Alice', 25), ('Eve', 30)]\n",
        "  ```\n",
        "  4. Inside List Comprehensions or Function Parameters\n",
        "  ```python\n",
        "    print((lambda x: x * 3)(10))  # Output: 30\n",
        "  ```\n",
        "\n"
      ],
      "metadata": {
        "id": "Y3UlIaXp7EMm"
      }
    },
    {
      "cell_type": "markdown",
      "source": [
        "### **Q9. Explain the Purpose and Usage of the `map()` Function in Python (with Examples)**\n",
        "\n",
        "---\n",
        "\n",
        "* **Purpose:**\n",
        "\n",
        "The `map()` function in Python is used to **apply a given function to every item** in an iterable (like a list, tuple, etc.) and return a new map object (an iterator) with the results.\n",
        "\n",
        "* **Syntax:**\n",
        "  ```python\n",
        "    map(function, iterable)\n",
        "  ```\n",
        "\n",
        "  * `function`: A function to apply.\n",
        "  * `iterable`: An iterable like a list or tuple.\n",
        "\n",
        "* **Use Case Example - Squaring Each Number in a List**\n",
        "  ```python\n",
        "    nums = [1, 2, 3, 4]\n",
        "\n",
        "    # Using map with lambda to square each number\n",
        "    squares = list(map(lambda x: x**2, nums))\n",
        "\n",
        "    print(squares)  # Output: [1, 4, 9, 16]\n",
        "  ```\n",
        "\n",
        "* **How It Works (Step-by-Step for Example Above):**\n",
        "\n",
        "1. `x = 1 → 1**2 = 1`\n",
        "2. `x = 2 → 2**2 = 4`\n",
        "3. `x = 3 → 3**2 = 9`\n",
        "4. `x = 4 → 4**2 = 16`\n",
        "\n",
        "* **Another Example - Convert a List of Strings to Integers**\n",
        "\n",
        "```python\n",
        "str_nums = ['10', '20', '30']\n",
        "int_nums = list(map(int, str_nums))\n",
        "\n",
        "print(int_nums)  # Output: [10, 20, 30]\n",
        "```\n",
        "\n",
        "* **Use cases of `map()` function**\n",
        "  * When you want to transform each element of a collection.\n",
        "  * When you want cleaner, more functional code instead of `for` loops.\n"
      ],
      "metadata": {
        "id": "CtTb_C43XZzW"
      }
    },
    {
      "cell_type": "markdown",
      "source": [
        "# **Practical Questions**"
      ],
      "metadata": {
        "id": "xKxiPVL1dhOb"
      }
    },
    {
      "cell_type": "markdown",
      "source": [
        "Q1. Write a Python function that takes a list of numbers as input and returns the sum of all even numbers in the list."
      ],
      "metadata": {
        "id": "uc_tPqblkxpW"
      }
    },
    {
      "cell_type": "code",
      "execution_count": null,
      "metadata": {
        "colab": {
          "base_uri": "https://localhost:8080/"
        },
        "id": "_eCdGNB8dSU1",
        "outputId": "93d20dad-2569-4dee-bfca-ea278e16301c"
      },
      "outputs": [
        {
          "output_type": "stream",
          "name": "stdout",
          "text": [
            "Enter the length of the list that you want to create:7\n",
            "Enter number to add:1\n",
            "Enter number to add:2\n",
            "Enter number to add:3\n",
            "Enter number to add:4\n",
            "Enter number to add:5\n",
            "Enter number to add:6\n",
            "Enter number to add:7\n",
            "Number List: [1, 2, 3, 4, 5, 6, 7]\n",
            "Sum of even numbers of the list: 12\n"
          ]
        }
      ],
      "source": [
        "def sum_func(list_length):\n",
        "  num_list = []\n",
        "  num_sum = 0\n",
        "\n",
        "  for _ in range(list_length):\n",
        "    num = int(input(\"Enter number to add:\"))\n",
        "    num_list.append(num)\n",
        "    if num % 2 == 0:\n",
        "      num_sum += num\n",
        "\n",
        "  return num_sum, num_list\n",
        "\n",
        "list_length = int(input(\"Enter the length of the list that you want to create:\"))\n",
        "num_sum, list1 = sum_func(list_length)\n",
        "print(f\"Number List: {list1}\")\n",
        "print(f\"Sum of even numbers of the list: {num_sum}\")"
      ]
    },
    {
      "cell_type": "markdown",
      "source": [
        "Q2. Create a Python function that accepts a string and returns the reverse of that string."
      ],
      "metadata": {
        "id": "BppmIKx31aNT"
      }
    },
    {
      "cell_type": "code",
      "source": [
        "def str_rev(str1):\n",
        "  rev_str = str1[::-1]\n",
        "  return rev_str\n",
        "\n",
        "str1 = input(\"Enter a string:\")\n",
        "print(f\"Reverse of the string: {str_rev(str1)}\")"
      ],
      "metadata": {
        "colab": {
          "base_uri": "https://localhost:8080/"
        },
        "id": "8A71HVIr1eOL",
        "outputId": "3e1bf065-0f42-4671-8814-93f30b3896ef"
      },
      "execution_count": null,
      "outputs": [
        {
          "output_type": "stream",
          "name": "stdout",
          "text": [
            "Enter a string:suzan\n",
            "Reverse of the string: nazus\n"
          ]
        }
      ]
    },
    {
      "cell_type": "markdown",
      "source": [
        " Q3. Implement a Python function that takes a list of integers and returns a new list containing the squares of each number."
      ],
      "metadata": {
        "id": "X2dzd15g4ryM"
      }
    },
    {
      "cell_type": "code",
      "source": [
        "def square_func(num_list):\n",
        "  square_list = []\n",
        "  for num in num_list:\n",
        "    square_list.append(num**2)\n",
        "  return square_list\n",
        "\n",
        "square_list = square_func([1,2,3,4,5])\n",
        "print(f\"Square list: {square_list}\")"
      ],
      "metadata": {
        "colab": {
          "base_uri": "https://localhost:8080/"
        },
        "id": "MBThrLVz4xAZ",
        "outputId": "23fcfd04-08c6-4ed2-d28d-b8d188ed04e3"
      },
      "execution_count": null,
      "outputs": [
        {
          "output_type": "stream",
          "name": "stdout",
          "text": [
            "Square list: [1, 4, 9, 16, 25]\n"
          ]
        }
      ]
    },
    {
      "cell_type": "markdown",
      "source": [
        "Q4. Write a Python function that checks if a given number is prime or not from 1 to 200."
      ],
      "metadata": {
        "id": "mb9Q_rvA7KMZ"
      }
    },
    {
      "cell_type": "code",
      "source": [
        "def check_prime(num):\n",
        "  if num < 2:\n",
        "    return False\n",
        "  for i in range(2, int(num**0.5) + 1):\n",
        "    if num % i == 0:\n",
        "      return False\n",
        "  return True\n",
        "\n",
        "num = int(input(\"Enter a number:\"))\n",
        "if num < 1 or num > 200:\n",
        "  print(\"Invalid input. Please enter a number between 1 and 200.\")\n",
        "  exit()\n",
        "\n",
        "if check_prime(num):\n",
        "  print(f\"{num} is a prime number.\")\n",
        "else:\n",
        "  print(f\"{num} is not a prime number.\")"
      ],
      "metadata": {
        "id": "syeT84m37OSn"
      },
      "execution_count": null,
      "outputs": []
    },
    {
      "cell_type": "markdown",
      "source": [
        "Q5. Create an iterator class in Python that generates the Fibonacci sequence up to a specified number of terms."
      ],
      "metadata": {
        "id": "jGch1xsE7PL-"
      }
    },
    {
      "cell_type": "code",
      "source": [
        "class FibonacciIterator:\n",
        "  def __init__(self, max_terms):\n",
        "      self.max_terms = max_terms\n",
        "      self.count = 0\n",
        "      self.a, self.b = 0, 1\n",
        "\n",
        "  def __iter__(self):\n",
        "      return self\n",
        "\n",
        "  def __next__(self):\n",
        "      if self.count >= self.max_terms:\n",
        "        raise StopIteration\n",
        "      if self.count == 0:\n",
        "        self.count += 1\n",
        "        return 0\n",
        "      # elif self.count == 1:\n",
        "      #   self.count += 1\n",
        "      #   return 1\n",
        "      else:\n",
        "        self.a, self.b = self.b, self.a + self.b\n",
        "        self.count += 1\n",
        "        return self.a\n",
        "\n",
        "fib = FibonacciIterator(10)\n",
        "print(\"Fibonacci series:\")\n",
        "for num in fib:\n",
        "    print(num)"
      ],
      "metadata": {
        "colab": {
          "base_uri": "https://localhost:8080/"
        },
        "id": "6eeacgdURx2d",
        "outputId": "4f9ca025-c334-4f1c-d215-9dd239ba9b68"
      },
      "execution_count": null,
      "outputs": [
        {
          "output_type": "stream",
          "name": "stdout",
          "text": [
            "Fibonacci series:\n",
            "0\n",
            "1\n",
            "1\n",
            "2\n",
            "3\n",
            "5\n",
            "8\n",
            "13\n",
            "21\n",
            "34\n"
          ]
        }
      ]
    },
    {
      "cell_type": "markdown",
      "source": [
        "Q6. Write a generator function in Python that yields the powers of 2 up to a given exponent."
      ],
      "metadata": {
        "id": "kgHhoD-zW3xy"
      }
    },
    {
      "cell_type": "code",
      "source": [
        "def power(max_value):\n",
        "  for num in range(max_value + 1):\n",
        "    yield 2**num\n",
        "\n",
        "print(\"Powers of 2:\")\n",
        "for num in power(10):\n",
        "  print(num)"
      ],
      "metadata": {
        "colab": {
          "base_uri": "https://localhost:8080/"
        },
        "id": "1zicZ6cVW6rU",
        "outputId": "bf4c2453-49e7-40d0-d502-a8395450fb8a"
      },
      "execution_count": null,
      "outputs": [
        {
          "output_type": "stream",
          "name": "stdout",
          "text": [
            "Powers of 2:\n",
            "1\n",
            "2\n",
            "4\n",
            "8\n",
            "16\n",
            "32\n",
            "64\n",
            "128\n",
            "256\n",
            "512\n",
            "1024\n"
          ]
        }
      ]
    },
    {
      "cell_type": "markdown",
      "source": [
        "Q7.  Implement a generator function that reads a file line by line and yields each line as a string."
      ],
      "metadata": {
        "id": "sTb7i1ghir3g"
      }
    },
    {
      "cell_type": "code",
      "source": [
        "def read_file_lines(filepath):\n",
        "    with open(filepath, 'r') as file:\n",
        "        for line in file:\n",
        "            yield line.rstrip('\\n')  # Removes the newline character\n",
        "\n",
        "for line in read_file_lines('/content/sample_data/README.md'):\n",
        "    print(f\"Line: {line}\")"
      ],
      "metadata": {
        "colab": {
          "base_uri": "https://localhost:8080/"
        },
        "id": "-IVtjHUliwjj",
        "outputId": "b8cc3048-fdb0-44a9-9169-9c600294366f"
      },
      "execution_count": null,
      "outputs": [
        {
          "output_type": "stream",
          "name": "stdout",
          "text": [
            "Line: This directory includes a few sample datasets to get you started.\n",
            "Line: \n",
            "Line: *   `california_housing_data*.csv` is California housing data from the 1990 US\n",
            "Line:     Census; more information is available at:\n",
            "Line:     https://docs.google.com/document/d/e/2PACX-1vRhYtsvc5eOR2FWNCwaBiKL6suIOrxJig8LcSBbmCbyYsayia_DvPOOBlXZ4CAlQ5nlDD8kTaIDRwrN/pub\n",
            "Line: \n",
            "Line: *   `mnist_*.csv` is a small sample of the\n",
            "Line:     [MNIST database](https://en.wikipedia.org/wiki/MNIST_database), which is\n",
            "Line:     described at: http://yann.lecun.com/exdb/mnist/\n",
            "Line: \n",
            "Line: *   `anscombe.json` contains a copy of\n",
            "Line:     [Anscombe's quartet](https://en.wikipedia.org/wiki/Anscombe%27s_quartet); it\n",
            "Line:     was originally described in\n",
            "Line: \n",
            "Line:     Anscombe, F. J. (1973). 'Graphs in Statistical Analysis'. American\n",
            "Line:     Statistician. 27 (1): 17-21. JSTOR 2682899.\n",
            "Line: \n",
            "Line:     and our copy was prepared by the\n",
            "Line:     [vega_datasets library](https://github.com/altair-viz/vega_datasets/blob/4f67bdaad10f45e3549984e17e1b3088c731503d/vega_datasets/_data/anscombe.json).\n"
          ]
        }
      ]
    },
    {
      "cell_type": "markdown",
      "source": [
        "Q8.  Use a lambda function in Python to sort a list of tuples based on the second element of each tuple."
      ],
      "metadata": {
        "id": "t1U8_573lXKb"
      }
    },
    {
      "cell_type": "code",
      "source": [
        "data = [(1, 3), (2, 1), (4, 2), (5, 0)]\n",
        "sorted_data = sorted(data, key=lambda x: x[1])\n",
        "print(sorted_data)"
      ],
      "metadata": {
        "colab": {
          "base_uri": "https://localhost:8080/"
        },
        "id": "pDzIJJlFlfc4",
        "outputId": "b19d896b-d76f-4e62-ccbe-1244a1637771"
      },
      "execution_count": null,
      "outputs": [
        {
          "output_type": "stream",
          "name": "stdout",
          "text": [
            "[(5, 0), (2, 1), (4, 2), (1, 3)]\n"
          ]
        }
      ]
    },
    {
      "cell_type": "markdown",
      "source": [
        "Q9. Write a Python program that uses `map()` to convert a list of temperatures from Celsius to Fahrenheit."
      ],
      "metadata": {
        "id": "J1Ilrrcyn3lP"
      }
    },
    {
      "cell_type": "code",
      "source": [
        "celsius = [0, 20, 37, 100]\n",
        "fahrenheit = list(map(lambda c: (c * 9/5) + 32, celsius))\n",
        "print(\"Celsius:    \", celsius)\n",
        "print(\"Fahrenheit: \", fahrenheit)"
      ],
      "metadata": {
        "colab": {
          "base_uri": "https://localhost:8080/"
        },
        "id": "YmKl7j2-opYl",
        "outputId": "c34eff10-b7dc-4e81-8600-550c90d8d433"
      },
      "execution_count": null,
      "outputs": [
        {
          "output_type": "stream",
          "name": "stdout",
          "text": [
            "Celsius:     [0, 20, 37, 100]\n",
            "Fahrenheit:  [32.0, 68.0, 98.6, 212.0]\n"
          ]
        }
      ]
    },
    {
      "cell_type": "markdown",
      "source": [
        "Q10. Create a Python program that uses `filter()` to remove all the vowels from a given string."
      ],
      "metadata": {
        "id": "ijDBiZggsrXM"
      }
    },
    {
      "cell_type": "code",
      "source": [
        "str1 = \"Hello World\"\n",
        "filtered_str = ''.join(filter(lambda x: x not in \"aeiouAEIOU\", str1))\n",
        "print(filtered_str)"
      ],
      "metadata": {
        "colab": {
          "base_uri": "https://localhost:8080/"
        },
        "id": "hf7ZBQVDsquM",
        "outputId": "594658c4-221b-4d2e-a800-2c2390ade6d3"
      },
      "execution_count": null,
      "outputs": [
        {
          "output_type": "stream",
          "name": "stdout",
          "text": [
            "Hll Wrld\n"
          ]
        }
      ]
    },
    {
      "cell_type": "markdown",
      "source": [
        "Q11. Imagine an accounting routine used in a book shop. It works on a list with sublists, which look like this:\n",
        "\n",
        "```\n",
        "  Order Number    Book Title and Author             Quantity      Price per item\n",
        "  34587           Learning Python, Mark Lutz            4             40.95\n",
        "  98762           Programming Python, Mark Lutz         5             56.80\n",
        "  77226           Head First Python, Paul Barry         3             32.95\n",
        "  88112           Einfuhrang in Python3, Bernd Klien    3             24.99\n",
        "```\n",
        "Write a Python program, which returns a list with 2-tuples. Each tuple consists of the order number and the product of the price per item and the quantity. The product should be increased by 10,- € if the value of the order is smaller than 100,00 €. Write a Python program using lambda and map."
      ],
      "metadata": {
        "id": "xR5Ez5pfy5h0"
      }
    },
    {
      "cell_type": "code",
      "source": [
        "orders = [\n",
        "    [34587, \"Learning Python, Mark Lutz\", 4, 40.95],\n",
        "    [98762, \"Programming Python, Mark Lutz\", 5, 56.80],\n",
        "    [77226, \"Head First Python, Paul Barry\", 3, 32.95],\n",
        "    [88112, \"Einfuhrang in Python3, Bernd Klien\", 3, 24.99]\n",
        "]\n",
        "\n",
        "result = list(map(\n",
        "    lambda order: (\n",
        "        order[0],\n",
        "        round(order[2] * order[3] + (10 if order[2] * order[3] < 100 else 0), 2)\n",
        "    ),\n",
        "    orders\n",
        "))\n",
        "\n",
        "print(result)"
      ],
      "metadata": {
        "id": "bcqOZ2JZzSoH",
        "colab": {
          "base_uri": "https://localhost:8080/"
        },
        "outputId": "4de80051-c744-423f-cda2-2fa8f8dd5018"
      },
      "execution_count": null,
      "outputs": [
        {
          "output_type": "stream",
          "name": "stdout",
          "text": [
            "[(34587, 163.8), (98762, 284.0), (77226, 108.85), (88112, 84.97)]\n"
          ]
        }
      ]
    }
  ]
}